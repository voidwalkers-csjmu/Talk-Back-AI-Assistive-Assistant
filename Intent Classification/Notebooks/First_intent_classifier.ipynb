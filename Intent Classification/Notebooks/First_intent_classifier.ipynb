{
 "cells": [
  {
   "cell_type": "code",
   "execution_count": 1,
   "id": "54bbc106-2320-4d83-bc4d-51b10388f480",
   "metadata": {},
   "outputs": [],
   "source": [
    "!pip install pandas --quiet\n",
    "!pip install matplotlib --quiet\n",
    "!pip install seaborn --quiet\n",
    "!pip install tensorflow --quiet\n",
    "!pip install scikit-learn --quiet\n"
   ]
  },
  {
   "cell_type": "code",
   "execution_count": 2,
   "id": "249a2eba-da70-4976-bae8-bbca535c0370",
   "metadata": {},
   "outputs": [],
   "source": [
    "!pip install numpy --quiet"
   ]
  },
  {
   "cell_type": "code",
   "execution_count": 4,
   "id": "6b335cc7-92c6-4b27-9813-74bf2b38875e",
   "metadata": {},
   "outputs": [],
   "source": [
    "import numpy as np\n",
    "import pandas as pd\n",
    "import warnings\n",
    "import os"
   ]
  },
  {
   "cell_type": "code",
   "execution_count": 8,
   "id": "6cc71060-7dfb-48df-8d53-c639f558a8f2",
   "metadata": {},
   "outputs": [],
   "source": [
    "warnings.filterwarnings('ignore')"
   ]
  },
  {
   "cell_type": "code",
   "execution_count": 10,
   "id": "f3e17d68-b818-4d19-bc32-96e0d8c280ef",
   "metadata": {},
   "outputs": [],
   "source": [
    "ROOT_PATH = r\"C:\\Talk Back AI Assistant\\Intent Classification\"\n",
    "DATA_PATH = os.path.join(ROOT_PATH, 'Datasets')"
   ]
  },
  {
   "cell_type": "code",
   "execution_count": 11,
   "id": "5dd40c84-be57-4270-b8cb-d65f24fcb942",
   "metadata": {},
   "outputs": [
    {
     "data": {
      "text/html": [
       "<div>\n",
       "<style scoped>\n",
       "    .dataframe tbody tr th:only-of-type {\n",
       "        vertical-align: middle;\n",
       "    }\n",
       "\n",
       "    .dataframe tbody tr th {\n",
       "        vertical-align: top;\n",
       "    }\n",
       "\n",
       "    .dataframe thead th {\n",
       "        text-align: right;\n",
       "    }\n",
       "</style>\n",
       "<table border=\"1\" class=\"dataframe\">\n",
       "  <thead>\n",
       "    <tr style=\"text-align: right;\">\n",
       "      <th></th>\n",
       "      <th>intent</th>\n",
       "      <th>text</th>\n",
       "    </tr>\n",
       "  </thead>\n",
       "  <tbody>\n",
       "    <tr>\n",
       "      <th>9</th>\n",
       "      <td>open_app</td>\n",
       "      <td>Open PowerPoint</td>\n",
       "    </tr>\n",
       "    <tr>\n",
       "      <th>51</th>\n",
       "      <td>open_website</td>\n",
       "      <td>Open GitHub</td>\n",
       "    </tr>\n",
       "    <tr>\n",
       "      <th>55</th>\n",
       "      <td>exit</td>\n",
       "      <td>Stop</td>\n",
       "    </tr>\n",
       "    <tr>\n",
       "      <th>48</th>\n",
       "      <td>open_folder</td>\n",
       "      <td>Go to Music folder</td>\n",
       "    </tr>\n",
       "    <tr>\n",
       "      <th>38</th>\n",
       "      <td>make_note</td>\n",
       "      <td>Add note about project</td>\n",
       "    </tr>\n",
       "  </tbody>\n",
       "</table>\n",
       "</div>"
      ],
      "text/plain": [
       "          intent                    text\n",
       "9       open_app         Open PowerPoint\n",
       "51  open_website             Open GitHub\n",
       "55          exit                    Stop\n",
       "48   open_folder      Go to Music folder\n",
       "38     make_note  Add note about project"
      ]
     },
     "execution_count": 11,
     "metadata": {},
     "output_type": "execute_result"
    }
   ],
   "source": [
    "dataset_path = os.path.join(DATA_PATH, 'toy_set.csv')\n",
    "df = pd.read_csv(dataset_path)\n",
    "df.sample(5)"
   ]
  },
  {
   "cell_type": "code",
   "execution_count": 12,
   "id": "c38d1818-35f4-46fd-bd08-22ba28427caf",
   "metadata": {},
   "outputs": [
    {
     "data": {
      "text/html": [
       "<div>\n",
       "<style scoped>\n",
       "    .dataframe tbody tr th:only-of-type {\n",
       "        vertical-align: middle;\n",
       "    }\n",
       "\n",
       "    .dataframe tbody tr th {\n",
       "        vertical-align: top;\n",
       "    }\n",
       "\n",
       "    .dataframe thead th {\n",
       "        text-align: right;\n",
       "    }\n",
       "</style>\n",
       "<table border=\"1\" class=\"dataframe\">\n",
       "  <thead>\n",
       "    <tr style=\"text-align: right;\">\n",
       "      <th></th>\n",
       "      <th>intent</th>\n",
       "      <th>text</th>\n",
       "    </tr>\n",
       "  </thead>\n",
       "  <tbody>\n",
       "    <tr>\n",
       "      <th>0</th>\n",
       "      <td>open_app</td>\n",
       "      <td>Open Chrome</td>\n",
       "    </tr>\n",
       "    <tr>\n",
       "      <th>1</th>\n",
       "      <td>open_app</td>\n",
       "      <td>Launch Spotify</td>\n",
       "    </tr>\n",
       "    <tr>\n",
       "      <th>2</th>\n",
       "      <td>open_app</td>\n",
       "      <td>Start Notepad</td>\n",
       "    </tr>\n",
       "    <tr>\n",
       "      <th>3</th>\n",
       "      <td>open_app</td>\n",
       "      <td>Open Calculator</td>\n",
       "    </tr>\n",
       "    <tr>\n",
       "      <th>4</th>\n",
       "      <td>open_app</td>\n",
       "      <td>Launch Word</td>\n",
       "    </tr>\n",
       "  </tbody>\n",
       "</table>\n",
       "</div>"
      ],
      "text/plain": [
       "     intent             text\n",
       "0  open_app      Open Chrome\n",
       "1  open_app   Launch Spotify\n",
       "2  open_app    Start Notepad\n",
       "3  open_app  Open Calculator\n",
       "4  open_app      Launch Word"
      ]
     },
     "execution_count": 12,
     "metadata": {},
     "output_type": "execute_result"
    }
   ],
   "source": [
    "df.head()"
   ]
  },
  {
   "cell_type": "code",
   "execution_count": 13,
   "id": "c8d31e2c-afd0-4474-bfb4-a4774a7d77b5",
   "metadata": {},
   "outputs": [
    {
     "name": "stdout",
     "output_type": "stream",
     "text": [
      "<class 'pandas.core.frame.DataFrame'>\n",
      "RangeIndex: 58 entries, 0 to 57\n",
      "Data columns (total 2 columns):\n",
      " #   Column  Non-Null Count  Dtype \n",
      "---  ------  --------------  ----- \n",
      " 0   intent  58 non-null     object\n",
      " 1   text    58 non-null     object\n",
      "dtypes: object(2)\n",
      "memory usage: 1.0+ KB\n"
     ]
    }
   ],
   "source": [
    "df.info()"
   ]
  },
  {
   "cell_type": "markdown",
   "id": "f5da3ed7-d7a8-4556-bc53-0767c4712876",
   "metadata": {},
   "source": [
    "On text data logistic Regressor Linear SVM and Naive byes i.e. Multinomial NB works better and since this is a model which will be working on a smaller datatset it will be that much more effective"
   ]
  },
  {
   "cell_type": "code",
   "execution_count": 16,
   "id": "86c26d97-70a3-4ff3-9a49-e034ac3207aa",
   "metadata": {},
   "outputs": [],
   "source": [
    "from sklearn.feature_extraction.text import TfidfVectorizer\n",
    "\n",
    "texts = df['text'].copy()\n",
    "intents = df['intent'].copy()"
   ]
  },
  {
   "cell_type": "code",
   "execution_count": 17,
   "id": "0c234da8-f8eb-461d-9aea-ca6bfbd8c359",
   "metadata": {},
   "outputs": [],
   "source": [
    "vectorizer = TfidfVectorizer(\n",
    "    lowercase = True,   # convert all to lowercase\n",
    "    stop_words = \"english\", # remove common stopwords\n",
    "    ngram_range = (1,2)  # unigrams + bigrams\n",
    ")"
   ]
  },
  {
   "cell_type": "code",
   "execution_count": 18,
   "id": "d83086c2-fde0-4e4b-b285-68b5c9391838",
   "metadata": {},
   "outputs": [
    {
     "name": "stdout",
     "output_type": "stream",
     "text": [
      "Feature shape: (58, 147)\n",
      "Sample features:\n",
      " [0.         0.         0.         0.         0.         0.\n",
      " 0.         0.         0.         0.         0.         0.\n",
      " 0.         0.         0.         0.65534459 0.         0.\n",
      " 0.         0.         0.         0.         0.         0.\n",
      " 0.         0.         0.         0.         0.         0.\n",
      " 0.         0.         0.         0.         0.         0.\n",
      " 0.         0.         0.         0.         0.         0.\n",
      " 0.         0.         0.         0.         0.         0.\n",
      " 0.         0.         0.         0.         0.         0.\n",
      " 0.         0.         0.         0.         0.         0.\n",
      " 0.         0.         0.         0.         0.         0.\n",
      " 0.         0.         0.         0.         0.         0.\n",
      " 0.         0.         0.         0.         0.         0.\n",
      " 0.         0.         0.         0.         0.         0.37556215\n",
      " 0.         0.65534459 0.         0.         0.         0.\n",
      " 0.         0.         0.         0.         0.         0.\n",
      " 0.         0.         0.         0.         0.         0.\n",
      " 0.         0.         0.         0.         0.         0.\n",
      " 0.         0.         0.         0.         0.         0.\n",
      " 0.         0.         0.         0.         0.         0.\n",
      " 0.         0.         0.         0.         0.         0.\n",
      " 0.         0.         0.         0.         0.         0.\n",
      " 0.         0.         0.         0.         0.         0.\n",
      " 0.         0.         0.         0.         0.         0.\n",
      " 0.         0.         0.        ]\n",
      "Vocabulary size: 147\n"
     ]
    }
   ],
   "source": [
    "X = vectorizer.fit_transform(texts)\n",
    "\n",
    "print(\"Feature shape:\", X.shape)\n",
    "print(\"Sample features:\\n\", X.toarray()[0])\n",
    "print(\"Vocabulary size:\", len(vectorizer.vocabulary_))"
   ]
  },
  {
   "cell_type": "code",
   "execution_count": 25,
   "id": "a66d494f-57bf-4f38-8ff0-bc2f19e61d06",
   "metadata": {},
   "outputs": [],
   "source": [
    "from sklearn.model_selection import train_test_split \n",
    "\n",
    "X_train, X_test, y_train, y_test = train_test_split(\n",
    "    X,\n",
    "    intents,\n",
    "    test_size = 0.2,\n",
    "    stratify = intents\n",
    ") "
   ]
  },
  {
   "cell_type": "code",
   "execution_count": 26,
   "id": "22340823-206c-4497-9266-1317a4d0ecdb",
   "metadata": {},
   "outputs": [
    {
     "name": "stdout",
     "output_type": "stream",
     "text": [
      "Classification Report: \n",
      "               precision    recall  f1-score   support\n",
      "\n",
      "        exit       0.00      0.00      0.00         1\n",
      "   make_note       0.00      0.00      0.00         2\n",
      "    open_app       0.67      1.00      0.80         2\n",
      " open_folder       1.00      1.00      1.00         1\n",
      "open_website       0.00      0.00      0.00         1\n",
      "  search_web       0.40      1.00      0.57         2\n",
      "   tell_date       1.00      1.00      1.00         1\n",
      "   tell_time       1.00      1.00      1.00         2\n",
      "\n",
      "    accuracy                           0.67        12\n",
      "   macro avg       0.51      0.62      0.55        12\n",
      "weighted avg       0.51      0.67      0.56        12\n",
      "\n"
     ]
    }
   ],
   "source": [
    "from sklearn.linear_model import LogisticRegression\n",
    "from sklearn.metrics import classification_report\n",
    "lr_model = LogisticRegression()\n",
    "lr_model.fit(X_train, y_train)\n",
    "lr_pred = lr_model.predict(X_test)\n",
    "print('Classification Report: \\n', classification_report(y_test, lr_pred))"
   ]
  },
  {
   "cell_type": "code",
   "execution_count": 30,
   "id": "9d7fb9ad-77a0-434b-a141-1983ef73e176",
   "metadata": {},
   "outputs": [],
   "source": [
    "# Data Augmentation\n",
    "\n",
    "from nltk.corpus import wordnet\n",
    "import random\n",
    "\n",
    "def synonym_replace(text, n=1):\n",
    "    words = text.split()\n",
    "    new_words = words.copy()\n",
    "    for _ in range(n):\n",
    "        idx = random.choice(range(len(words)))\n",
    "        synonyms = wordnet.synsets(words[idx])\n",
    "        if synonyms:\n",
    "            lemmas = [l.name() for s in synonyms for l in s.lemmas()]\n",
    "            lemmas = [l.replace('_', ' ') for l in lemmas if l != words[idx]]\n",
    "            if lemmas:\n",
    "                new_words[idx] = random.choice(lemmas)\n",
    "    return ' '.join(new_words)\n"
   ]
  },
  {
   "cell_type": "code",
   "execution_count": 29,
   "id": "dfaac2a5-a7ae-4c02-b7fa-1e21ee300f08",
   "metadata": {},
   "outputs": [],
   "source": [
    "synonyms = texts.apply(synon)"
   ]
  },
  {
   "cell_type": "code",
   "execution_count": null,
   "id": "b77c6363-dc79-4434-910d-52b69b37cb58",
   "metadata": {},
   "outputs": [],
   "source": []
  }
 ],
 "metadata": {
  "kernelspec": {
   "display_name": "Python 3 (ipykernel)",
   "language": "python",
   "name": "python3"
  },
  "language_info": {
   "codemirror_mode": {
    "name": "ipython",
    "version": 3
   },
   "file_extension": ".py",
   "mimetype": "text/x-python",
   "name": "python",
   "nbconvert_exporter": "python",
   "pygments_lexer": "ipython3",
   "version": "3.10.18"
  }
 },
 "nbformat": 4,
 "nbformat_minor": 5
}
